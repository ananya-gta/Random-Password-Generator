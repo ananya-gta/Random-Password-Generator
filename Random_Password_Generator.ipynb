{
  "nbformat": 4,
  "nbformat_minor": 0,
  "metadata": {
    "colab": {
      "name": "Random Password Generator.ipynb",
      "provenance": []
    },
    "kernelspec": {
      "name": "python3",
      "display_name": "Python 3"
    },
    "language_info": {
      "name": "python"
    }
  },
  "cells": [
    {
      "cell_type": "code",
      "metadata": {
        "colab": {
          "base_uri": "https://localhost:8080/"
        },
        "id": "jSdn_Z1oJ7sI",
        "outputId": "2d47da92-8209-43f3-df36-13fd8e97e23a"
      },
      "source": [
        "import random\n",
        "pw_length= int(input(\"Enter the length of password: \"))\n",
        "s=\"abcdefghijklmnopqrstuvwxyz01234567890ABCDEFGHIJKLMNOPQRSTUVWXYZ!@#$%^&*()?\"\n",
        "pw= \"\".join(random.sample(s,pw_length))\n",
        "print(pw)"
      ],
      "execution_count": 1,
      "outputs": [
        {
          "output_type": "stream",
          "name": "stdout",
          "text": [
            "Enter the length of password: 8\n",
            "uFe&rLV@\n"
          ]
        }
      ]
    }
  ]
}